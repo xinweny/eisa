{
 "metadata": {
  "language_info": {
   "codemirror_mode": {
    "name": "ipython",
    "version": 3
   },
   "file_extension": ".py",
   "mimetype": "text/x-python",
   "name": "python",
   "nbconvert_exporter": "python",
   "pygments_lexer": "ipython3",
   "version": "3.8.5-final"
  },
  "orig_nbformat": 2,
  "kernelspec": {
   "name": "python3",
   "display_name": "Python 3",
   "language": "python"
  }
 },
 "nbformat": 4,
 "nbformat_minor": 2,
 "cells": [
  {
   "cell_type": "code",
   "execution_count": 1,
   "metadata": {},
   "outputs": [],
   "source": [
    "import pandas as pd\n",
    "import matplotlib.pyplot as plt"
   ]
  },
  {
   "cell_type": "code",
   "execution_count": 3,
   "metadata": {},
   "outputs": [
    {
     "output_type": "execute_result",
     "data": {
      "text/plain": [
       "         GSE         Study      Organism  \\\n",
       "2  GSE103719  Inflammation  Homo sapiens   \n",
       "3  GSE105155  Inflammation  Mus musculus   \n",
       "4  GSE105155  Inflammation  Mus musculus   \n",
       "5  GSE106789  Inflammation  Mus musculus   \n",
       "6  GSE108770  Inflammation  Mus musculus   \n",
       "\n",
       "                        Cell/Tissue type                         Treatment(s)  \\\n",
       "2                          HEK293T cells                        DMSO vs. THAP   \n",
       "3                          BV2 microglia                      Control vs. LPS   \n",
       "4                          BV2 microglia                      Control vs. LPS   \n",
       "5  Granulocyte-monocyte progenitor cells  PBS vs. LPS injection (intravenous)   \n",
       "6                           N9 microglia                       Normal vs. LPS   \n",
       "\n",
       "  Time (hr) Concentration (µg/ml)             Genotype(s)  Nmin  Nmax  ...  \\\n",
       "2         2                     2                    None   4.0   4.0  ...   \n",
       "3         3                     1  TET2 (siRNA KD) vs. WT   2.0   3.0  ...   \n",
       "4         3                     1  TET2 (siRNA KD) vs. WT   2.0   3.0  ...   \n",
       "5         6                   NaN  Nlrp3 (-/-) Ldlr (-/-)   3.0   4.0  ...   \n",
       "6         3                   0.1                    None   3.0   5.0  ...   \n",
       "\n",
       "   lps_only  p_intron EISA_nsig EISA_Up:Down  DESeq_nsig  DESeq_Up:Down  \\\n",
       "2       0.0   0.05265     485.0     0.061269       971.0       1.568783   \n",
       "3       1.0   0.15230     307.0     0.358407      2104.0       1.446512   \n",
       "4       1.0   0.13380     108.0     0.687500      1660.0       1.331461   \n",
       "5       1.0   0.10880     158.0     0.362069      1814.0       1.402649   \n",
       "6       NaN       NaN       NaN          NaN         NaN            NaN   \n",
       "\n",
       "    SITA                                            Remarks  \\\n",
       "2   TRUE    Positive control with Barbara's result (human).   \n",
       "3  TRUE?                                                NaN   \n",
       "4  FALSE                                                NaN   \n",
       "5  TRUE?                                     No WT control.   \n",
       "6    NaN  Normal is SINGLE, LPS is PAIRED - cannot proce...   \n",
       "\n",
       "                    Other seq Other comments  \n",
       "2  TED-seq, Ribo-seq, PRO-seq            NaN  \n",
       "3                        None            NaN  \n",
       "4                        None            NaN  \n",
       "5                        None            NaN  \n",
       "6                    ChIP-seq            NaN  \n",
       "\n",
       "[5 rows x 31 columns]"
      ],
      "text/html": "<div>\n<style scoped>\n    .dataframe tbody tr th:only-of-type {\n        vertical-align: middle;\n    }\n\n    .dataframe tbody tr th {\n        vertical-align: top;\n    }\n\n    .dataframe thead th {\n        text-align: right;\n    }\n</style>\n<table border=\"1\" class=\"dataframe\">\n  <thead>\n    <tr style=\"text-align: right;\">\n      <th></th>\n      <th>GSE</th>\n      <th>Study</th>\n      <th>Organism</th>\n      <th>Cell/Tissue type</th>\n      <th>Treatment(s)</th>\n      <th>Time (hr)</th>\n      <th>Concentration (µg/ml)</th>\n      <th>Genotype(s)</th>\n      <th>Nmin</th>\n      <th>Nmax</th>\n      <th>...</th>\n      <th>lps_only</th>\n      <th>p_intron</th>\n      <th>EISA_nsig</th>\n      <th>EISA_Up:Down</th>\n      <th>DESeq_nsig</th>\n      <th>DESeq_Up:Down</th>\n      <th>SITA</th>\n      <th>Remarks</th>\n      <th>Other seq</th>\n      <th>Other comments</th>\n    </tr>\n  </thead>\n  <tbody>\n    <tr>\n      <th>2</th>\n      <td>GSE103719</td>\n      <td>Inflammation</td>\n      <td>Homo sapiens</td>\n      <td>HEK293T cells</td>\n      <td>DMSO vs. THAP</td>\n      <td>2</td>\n      <td>2</td>\n      <td>None</td>\n      <td>4.0</td>\n      <td>4.0</td>\n      <td>...</td>\n      <td>0.0</td>\n      <td>0.05265</td>\n      <td>485.0</td>\n      <td>0.061269</td>\n      <td>971.0</td>\n      <td>1.568783</td>\n      <td>TRUE</td>\n      <td>Positive control with Barbara's result (human).</td>\n      <td>TED-seq, Ribo-seq, PRO-seq</td>\n      <td>NaN</td>\n    </tr>\n    <tr>\n      <th>3</th>\n      <td>GSE105155</td>\n      <td>Inflammation</td>\n      <td>Mus musculus</td>\n      <td>BV2 microglia</td>\n      <td>Control vs. LPS</td>\n      <td>3</td>\n      <td>1</td>\n      <td>TET2 (siRNA KD) vs. WT</td>\n      <td>2.0</td>\n      <td>3.0</td>\n      <td>...</td>\n      <td>1.0</td>\n      <td>0.15230</td>\n      <td>307.0</td>\n      <td>0.358407</td>\n      <td>2104.0</td>\n      <td>1.446512</td>\n      <td>TRUE?</td>\n      <td>NaN</td>\n      <td>None</td>\n      <td>NaN</td>\n    </tr>\n    <tr>\n      <th>4</th>\n      <td>GSE105155</td>\n      <td>Inflammation</td>\n      <td>Mus musculus</td>\n      <td>BV2 microglia</td>\n      <td>Control vs. LPS</td>\n      <td>3</td>\n      <td>1</td>\n      <td>TET2 (siRNA KD) vs. WT</td>\n      <td>2.0</td>\n      <td>3.0</td>\n      <td>...</td>\n      <td>1.0</td>\n      <td>0.13380</td>\n      <td>108.0</td>\n      <td>0.687500</td>\n      <td>1660.0</td>\n      <td>1.331461</td>\n      <td>FALSE</td>\n      <td>NaN</td>\n      <td>None</td>\n      <td>NaN</td>\n    </tr>\n    <tr>\n      <th>5</th>\n      <td>GSE106789</td>\n      <td>Inflammation</td>\n      <td>Mus musculus</td>\n      <td>Granulocyte-monocyte progenitor cells</td>\n      <td>PBS vs. LPS injection (intravenous)</td>\n      <td>6</td>\n      <td>NaN</td>\n      <td>Nlrp3 (-/-) Ldlr (-/-)</td>\n      <td>3.0</td>\n      <td>4.0</td>\n      <td>...</td>\n      <td>1.0</td>\n      <td>0.10880</td>\n      <td>158.0</td>\n      <td>0.362069</td>\n      <td>1814.0</td>\n      <td>1.402649</td>\n      <td>TRUE?</td>\n      <td>No WT control.</td>\n      <td>None</td>\n      <td>NaN</td>\n    </tr>\n    <tr>\n      <th>6</th>\n      <td>GSE108770</td>\n      <td>Inflammation</td>\n      <td>Mus musculus</td>\n      <td>N9 microglia</td>\n      <td>Normal vs. LPS</td>\n      <td>3</td>\n      <td>0.1</td>\n      <td>None</td>\n      <td>3.0</td>\n      <td>5.0</td>\n      <td>...</td>\n      <td>NaN</td>\n      <td>NaN</td>\n      <td>NaN</td>\n      <td>NaN</td>\n      <td>NaN</td>\n      <td>NaN</td>\n      <td>NaN</td>\n      <td>Normal is SINGLE, LPS is PAIRED - cannot proce...</td>\n      <td>ChIP-seq</td>\n      <td>NaN</td>\n    </tr>\n  </tbody>\n</table>\n<p>5 rows × 31 columns</p>\n</div>"
     },
     "metadata": {},
     "execution_count": 3
    }
   ],
   "source": [
    "metadata_df = pd.read_csv(\"~/mrc/project/sita_eisa/data/sita_eisa_inflammation_metadata.txt\", sep=\"\\t\")\n",
    "\n",
    "metadata_df = metadata_df[metadata_df['Study'] == 'Inflammation']\n",
    "\n",
    "metadata_df.head()"
   ]
  },
  {
   "cell_type": "code",
   "execution_count": 4,
   "metadata": {
    "tags": []
   },
   "outputs": [
    {
     "output_type": "stream",
     "name": "stdout",
     "text": [
      "\nTotal GSEs: 70\nTotal comparisons: 148\n\n"
     ]
    }
   ],
   "source": [
    "# General GSE stats\n",
    "total_gse = len(metadata_df['GSE'].unique())\n",
    "total_comp = len(metadata_df.loc[metadata_df['SITA'] != ''])\n",
    "\n",
    "print(f\"\"\"\n",
    "Total GSEs: {total_gse}\n",
    "Total comparisons: {total_comp}\n",
    "\"\"\")\n"
   ]
  },
  {
   "cell_type": "code",
   "execution_count": 6,
   "metadata": {
    "tags": []
   },
   "outputs": [
    {
     "output_type": "stream",
     "name": "stdout",
     "text": [
      "Total GSEs for Inflammation: 53\nTotal comparisons for Inflammation: 125\n\nFALSE: 31 (24.8%)\nTRUE: 28 (22.4%)\nnan: 22 (17.6%)\nTRUE?: 15 (12.0%)\nFALSE*: 15 (12.0%)\nFALSE?: 9 (7.2%)\nFALSE*?: 5 (4.0%)\nTotal studies with confident SITA: 17 (32%)\n    GSEs: GSE103719, GSE109834, GSE119380, GSE123596, GSE134443, GSE139592, GSE143241, GSE147943, GSE158889, GSE62641, GSE80304, GSE90046, GSE92618, GSE94144, GSE95078, GSE97538, GSE98563\n\nTotal GSEs for Neurodegeneration: 44\nTotal comparisons for Neurodegeneration: 141\n\nnan: 68 (48.23%)\nTRUE: 20 (14.18%)\nFALSE*: 17 (12.06%)\nTRUE?: 16 (11.35%)\nFALSE: 10 (7.09%)\nFALSE?: 5 (3.55%)\nFALSE*?: 4 (2.84%)\nFALSE?*: 1 (0.71%)\nTotal studies with confident SITA: 12 (27%)\n    GSEs: GSE102563, GSE109171, GSE109906, GSE117868, GSE132508, GSE135539, GSE136158, GSE136789, GSE154428, GSE43366, GSE43879, GSE74724\n\n"
     ]
    }
   ],
   "source": [
    "# Comparison stats for each dataset\n",
    "datasets = ['Inflammation']\n",
    "for dataset in datasets:\n",
    "    complete_comp = metadata_df.loc[metadata_df['Study'] == dataset]\n",
    "    total_gse = len(complete_comp['GSE'].unique())\n",
    "    total_comp = len(complete_comp)\n",
    "\n",
    "    print(f\"Total GSEs for {dataset}: {total_gse}\")\n",
    "    print(f\"Total comparisons for {dataset}: {total_comp}\\n\")\n",
    "\n",
    "    sita_values = complete_comp['SITA'].value_counts(dropna=False).to_dict()\n",
    "\n",
    "    for sita, value in sita_values.items():\n",
    "        print(f\"{sita}: {value} ({round((value / total_comp) * 100, 2)}%)\")\n",
    "\n",
    "    true_studies = complete_comp.loc[complete_comp['SITA'] == 'TRUE']['GSE'].unique()\n",
    "\n",
    "    print(f\"\"\"Total studies with confident SITA: {len(true_studies)} ({round((len(true_studies) / total_gse) * 100)}%)\n",
    "    GSEs: {', '.join(list(true_studies))}\\n\"\"\")"
   ]
  },
  {
   "cell_type": "code",
   "execution_count": 5,
   "metadata": {
    "tags": []
   },
   "outputs": [
    {
     "output_type": "error",
     "ename": "NameError",
     "evalue": "name 'na_comps' is not defined",
     "traceback": [
      "\u001b[0;31m---------------------------------------------------------------------------\u001b[0m",
      "\u001b[0;31mNameError\u001b[0m                                 Traceback (most recent call last)",
      "\u001b[0;32m<ipython-input-5-e56bb267a8e4>\u001b[0m in \u001b[0;36m<module>\u001b[0;34m\u001b[0m\n\u001b[1;32m     12\u001b[0m     \u001b[0mnon_comps\u001b[0m \u001b[0;34m=\u001b[0m \u001b[0msub_df\u001b[0m\u001b[0;34m.\u001b[0m\u001b[0mloc\u001b[0m\u001b[0;34m[\u001b[0m\u001b[0mmetadata_df\u001b[0m\u001b[0;34m[\u001b[0m\u001b[0;34m'SITA'\u001b[0m\u001b[0;34m]\u001b[0m \u001b[0;34m!=\u001b[0m \u001b[0mcondition\u001b[0m\u001b[0;34m]\u001b[0m\u001b[0;34m\u001b[0m\u001b[0;34m\u001b[0m\u001b[0m\n\u001b[1;32m     13\u001b[0m \u001b[0;34m\u001b[0m\u001b[0m\n\u001b[0;32m---> 14\u001b[0;31m     \u001b[0mprint\u001b[0m\u001b[0;34m(\u001b[0m\u001b[0;34mf\"Total {study} comparisons: {len(na_comps)}\"\u001b[0m\u001b[0;34m)\u001b[0m\u001b[0;34m\u001b[0m\u001b[0;34m\u001b[0m\u001b[0m\n\u001b[0m\u001b[1;32m     15\u001b[0m \u001b[0;34m\u001b[0m\u001b[0m\n\u001b[1;32m     16\u001b[0m     \u001b[0mfig\u001b[0m\u001b[0;34m,\u001b[0m \u001b[0maxs\u001b[0m \u001b[0;34m=\u001b[0m \u001b[0mplt\u001b[0m\u001b[0;34m.\u001b[0m\u001b[0msubplots\u001b[0m\u001b[0;34m(\u001b[0m\u001b[0;36m1\u001b[0m\u001b[0;34m,\u001b[0m \u001b[0;36m4\u001b[0m\u001b[0;34m,\u001b[0m \u001b[0mfigsize\u001b[0m\u001b[0;34m=\u001b[0m\u001b[0;34m(\u001b[0m\u001b[0;36m10\u001b[0m\u001b[0;34m,\u001b[0m \u001b[0;36m5\u001b[0m\u001b[0;34m)\u001b[0m\u001b[0;34m)\u001b[0m\u001b[0;34m\u001b[0m\u001b[0;34m\u001b[0m\u001b[0m\n",
      "\u001b[0;31mNameError\u001b[0m: name 'na_comps' is not defined"
     ]
    }
   ],
   "source": [
    "# Analysis of NA comparisons\n",
    "studies = ['Inflammation', 'Neurodegeneration']\n",
    "condition = 'TRUE'\n",
    "\n",
    "for study in studies:\n",
    "    sub_df = metadata_df.loc[metadata_df['Study'] == study]\n",
    "\n",
    "    # na_comps = metadata_df.loc[metadata_df['SITA'].isna()]\n",
    "    # nonna_comps = metadata_df.loc[~(metadata_df['SITA'].isna())]\n",
    "\n",
    "    comps = sub_df.loc[metadata_df['SITA'] == condition]\n",
    "    non_comps = sub_df.loc[metadata_df['SITA'] != condition]\n",
    "\n",
    "    print(f\"Total {study} comparisons: {len(na_comps)}\")\n",
    "\n",
    "    fig, axs = plt.subplots(1, 4, figsize=(10, 5))\n",
    "\n",
    "    axs[0].boxplot([comps['p_intron'], non_comps['p_intron']], labels=[condition, f'non-{condition}'])\n",
    "    axs[0].set_title(\"Proportion of introns\")\n",
    "\n",
    "    axs[1].boxplot([comps['DESeq_nsig'], non_comps['DESeq_nsig']], labels=[condition, f'non-{condition}'])\n",
    "    axs[1].set_title(\"Significant DESeq2 genes\")\n",
    "\n",
    "    axs[2].boxplot([comps['DESeq_Up:Down'].dropna(), non_comps['DESeq_Up:Down'].dropna()], labels=[condition, f'non-{condition}'])\n",
    "    axs[2].set_ylim([-1, 10])\n",
    "    axs[2].set_title(\"DESeq2 up:down\")\n",
    "\n",
    "    axs[3].boxplot([comps['Min Reads (M)'].dropna(), non_comps['Min Reads (M)'].dropna()], labels=[condition, f'non-{condition}'])\n",
    "    axs[3].set_title('Min Reads (M)')\n",
    "\n",
    "    fig.suptitle(f\"{study}\", y=1.05, fontsize=16)\n",
    "    fig.tight_layout()"
   ]
  },
  {
   "cell_type": "code",
   "execution_count": 6,
   "metadata": {},
   "outputs": [],
   "source": [
    "lps_wt_df = metadata_df.loc[(metadata_df['Study'] == 'Inflammation') &\n",
    "                            (metadata_df['wt_comp'] == 1) &\n",
    "                            (metadata_df['lps_only'] == 1)]\n",
    "\n",
    "true_df = lps_wt_df.loc[lps_wt_df['SITA'] == 'TRUE']\n",
    "false_df = lps_wt_df.loc[lps_wt_df['SITA'] == 'FALSE']\n",
    "na_df = lps_wt_df.loc[lps_wt_df['SITA'].isna()]\n",
    "\n",
    "true_df.to_csv(\"../processed/inflammation_true.txt\", sep=\"\\t\")\n",
    "false_df.to_csv(\"../processed/inflammation_false.txt\", sep=\"\\t\")\n",
    "na_df.to_csv(\"../processed/inflammation_na.txt\", sep=\"\\t\")"
   ]
  },
  {
   "cell_type": "code",
   "execution_count": 13,
   "metadata": {},
   "outputs": [
    {
     "output_type": "stream",
     "name": "stdout",
     "text": [
      "\nTotal GSEs with microglia: 33 (75.0%)\nTotal comparisons with microglia: 86 (60.99290780141844%)\n\n\n"
     ]
    }
   ],
   "source": [
    "nd_df = metadata_df.loc[(metadata_df['Study'] == 'Neurodegeneration')]\n",
    "\n",
    "nd_gse = len(nd_df['GSE'].unique())\n",
    "\n",
    "microglia_df = metadata_df.loc[(metadata_df['Cell/Tissue type'].str.contains('microglia')) |\n",
    "(metadata_df['Cell/Tissue type'].str.contains('Microglia'))]\n",
    "\n",
    "mg_gse = len(microglia_df['GSE'].unique())\n",
    "mg_comp = len(microglia_df) - 3\n",
    "\n",
    "print(f\"\"\"\n",
    "Total GSEs with microglia: {mg_gse} ({mg_gse / nd_gse * 100}%)\n",
    "Total comparisons with microglia: {mg_comp} ({mg_comp / len(nd_df['GSE']) * 100}%)\n",
    "\n",
    "\"\"\")\n"
   ]
  },
  {
   "cell_type": "code",
   "execution_count": null,
   "metadata": {},
   "outputs": [],
   "source": []
  }
 ]
}