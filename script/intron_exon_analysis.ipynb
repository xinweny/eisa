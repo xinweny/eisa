{
 "metadata": {
  "language_info": {
   "codemirror_mode": {
    "name": "ipython",
    "version": 3
   },
   "file_extension": ".py",
   "mimetype": "text/x-python",
   "name": "python",
   "nbconvert_exporter": "python",
   "pygments_lexer": "ipython3",
   "version": "3.7.3-final"
  },
  "orig_nbformat": 2,
  "kernelspec": {
   "name": "Python 3.7.3 64-bit ('seq': conda)",
   "display_name": "Python 3.7.3 64-bit ('seq': conda)",
   "metadata": {
    "interpreter": {
     "hash": "773ba897af5ff6fdddb95f74f70b2f5f7dbd71b8e7cf7801d615bfef77148ca7"
    }
   }
  }
 },
 "nbformat": 4,
 "nbformat_minor": 2,
 "cells": [
  {
   "source": [
    "# Intron and Exon Gene Analysis"
   ],
   "cell_type": "markdown",
   "metadata": {}
  },
  {
   "cell_type": "code",
   "execution_count": 1,
   "metadata": {},
   "outputs": [],
   "source": [
    "#### Packages\n",
    "import pandas as pd"
   ]
  },
  {
   "cell_type": "code",
   "execution_count": 17,
   "metadata": {},
   "outputs": [
    {
     "output_type": "execute_result",
     "data": {
      "text/plain": [
       "                D1_30minHS_rep1  D1_30minHS_rep2  D1_30minHS_rep3  \\\n",
       "WBGene00000001                0                0                0   \n",
       "WBGene00000002                0                0                0   \n",
       "WBGene00000003                0                0                0   \n",
       "WBGene00000006                0                0                3   \n",
       "WBGene00000008                0                0                0   \n",
       "\n",
       "                D1_30minHS_rep4  D1_control_rep1  D1_control_rep2  \\\n",
       "WBGene00000001                0                0                0   \n",
       "WBGene00000002                0                0                0   \n",
       "WBGene00000003                0                0                0   \n",
       "WBGene00000006                1                0                1   \n",
       "WBGene00000008                0                0                0   \n",
       "\n",
       "                D1_control_rep3  D1_control_rep4  \n",
       "WBGene00000001                0                1  \n",
       "WBGene00000002                0                0  \n",
       "WBGene00000003                0                0  \n",
       "WBGene00000006                0                0  \n",
       "WBGene00000008                0                0  "
      ],
      "text/html": "<div>\n<style scoped>\n    .dataframe tbody tr th:only-of-type {\n        vertical-align: middle;\n    }\n\n    .dataframe tbody tr th {\n        vertical-align: top;\n    }\n\n    .dataframe thead th {\n        text-align: right;\n    }\n</style>\n<table border=\"1\" class=\"dataframe\">\n  <thead>\n    <tr style=\"text-align: right;\">\n      <th></th>\n      <th>D1_30minHS_rep1</th>\n      <th>D1_30minHS_rep2</th>\n      <th>D1_30minHS_rep3</th>\n      <th>D1_30minHS_rep4</th>\n      <th>D1_control_rep1</th>\n      <th>D1_control_rep2</th>\n      <th>D1_control_rep3</th>\n      <th>D1_control_rep4</th>\n    </tr>\n  </thead>\n  <tbody>\n    <tr>\n      <th>WBGene00000001</th>\n      <td>0</td>\n      <td>0</td>\n      <td>0</td>\n      <td>0</td>\n      <td>0</td>\n      <td>0</td>\n      <td>0</td>\n      <td>1</td>\n    </tr>\n    <tr>\n      <th>WBGene00000002</th>\n      <td>0</td>\n      <td>0</td>\n      <td>0</td>\n      <td>0</td>\n      <td>0</td>\n      <td>0</td>\n      <td>0</td>\n      <td>0</td>\n    </tr>\n    <tr>\n      <th>WBGene00000003</th>\n      <td>0</td>\n      <td>0</td>\n      <td>0</td>\n      <td>0</td>\n      <td>0</td>\n      <td>0</td>\n      <td>0</td>\n      <td>0</td>\n    </tr>\n    <tr>\n      <th>WBGene00000006</th>\n      <td>0</td>\n      <td>0</td>\n      <td>3</td>\n      <td>1</td>\n      <td>0</td>\n      <td>1</td>\n      <td>0</td>\n      <td>0</td>\n    </tr>\n    <tr>\n      <th>WBGene00000008</th>\n      <td>0</td>\n      <td>0</td>\n      <td>0</td>\n      <td>0</td>\n      <td>0</td>\n      <td>0</td>\n      <td>0</td>\n      <td>0</td>\n    </tr>\n  </tbody>\n</table>\n</div>"
     },
     "metadata": {},
     "execution_count": 17
    }
   ],
   "source": [
    "#### Load data\n",
    "mart_file = pd.read_csv(\"../../shared/WBcel235_exon_mart.txt\", sep=\"\\t\")\n",
    "expr_file_ex = pd.read_csv(\"../processed/CUS000001_ExonicCounts.txt\", sep=\"\\t\")\n",
    "expr_file_in = pd.read_csv(\"../processed/CUS000001_IntronicCounts.txt\", sep=\"\\t\")\n",
    "eisa_file = pd.read_csv(\"../processed/CUS000001_eisaDE_D1_control.D1_30minHS.txt\", sep=\"\\t\")\n",
    "\n",
    "expr_file_in.head()"
   ]
  },
  {
   "cell_type": "code",
   "execution_count": 18,
   "metadata": {},
   "outputs": [
    {
     "output_type": "stream",
     "name": "stdout",
     "text": [
      "0 out of 1128 (0.0%) EISA genes have 0 intronic counts.\n"
     ]
    }
   ],
   "source": [
    "# Find % of genes expressed in EISA with 0 counts in raw table\n",
    "expr_genes = expr_file_in[expr_file_in.index.isin(eisa_file.index.values)]\n",
    "\n",
    "zerocount_genes = expr_genes[expr_genes.sum(axis=1) == 0]\n",
    "p_zerocount = len(zerocount_genes) / len(expr_genes) * 100\n",
    "\n",
    "print(f\"{len(zerocount_genes)} out of {len(expr_genes)} ({p_zerocount}%) EISA genes have 0 intronic counts.\")\n",
    "\n",
    "# Intersect with gene expression file\n",
    "# mart_file = mart_file[mart_file[\"Gene stable ID\"].isin(expr_file.index.values)]"
   ]
  },
  {
   "cell_type": "code",
   "execution_count": 4,
   "metadata": {},
   "outputs": [
    {
     "output_type": "stream",
     "name": "stdout",
     "text": [
      "Total no. of expressed transcripts: 23082\nNo. of transcripts with introns: 22927\n\nAverage no. of exons: 6.9035612165323625\nMode of no. of exons: 4.0\nAverage no. of introns: 5.9035612165323625\nMode of no. of introns: 3.0\n"
     ]
    }
   ],
   "source": [
    "# Calculate no. of exons and introns\n",
    "inex_df = mart_file.groupby([\"Transcript stable ID\", \"Gene stable ID\"]).size().to_frame(name=\"Number of exons\").reset_index()\n",
    "\n",
    "print(f\"Total no. of expressed transcripts: {len(inex_df)}\")\n",
    "inex_df[\"Number of introns\"] = inex_df[\"Number of exons\"] - 1\n",
    "print(f\"No. of transcripts with introns: {len(inex_df[inex_df['Number of introns'] != 0])}\")\n",
    "\n",
    "avg_exon = inex_df['Number of exons'].sum() / len(inex_df)\n",
    "avg_intron = inex_df['Number of introns'].sum() / len(inex_df)\n",
    "\n",
    "print(f\"\"\"\n",
    "Average no. of exons: {avg_exon}\n",
    "Mode of no. of exons: {inex_df.mode()['Number of exons'][0]}\n",
    "Average no. of introns: {avg_intron}\n",
    "Mode of no. of introns: {inex_df.mode()['Number of introns'][0]}\"\"\")\n"
   ]
  },
  {
   "cell_type": "code",
   "execution_count": 18,
   "metadata": {
    "tags": []
   },
   "outputs": [],
   "source": [
    "# Calculate gene and exon lengths\n",
    "mart_file[\"Gene length (bp)\"] = abs(mart_file[\"Gene end (bp)\"] - mart_file[\"Gene start (bp)\"])\n",
    "mart_file[\"Gene region length (bp)\"] = 0\n",
    "\n",
    "for id in mart_file[\"Transcript stable ID\"].unique():\n",
    "    exons = list(mart_file.loc[mart_file[\"Transcript stable ID\"] == id, \"Exon rank in transcript\"])\n",
    "    exons.sort()\n",
    "    \n",
    "    gb_start = mart_file.loc[(mart_file[\"Transcript stable ID\"] == id) & (mart_file[\"Exon rank in transcript\"] == exons[0]), \"Exon region start (bp)\"].iloc[0]\n",
    "    gb_end = mart_file.loc[(mart_file[\"Transcript stable ID\"] == id) & (mart_file[\"Exon rank in transcript\"] == exons[-1]), \"Exon region end (bp)\"].iloc[0]\n",
    "    mart_file.loc[mart_file[\"Transcript stable ID\"] == id, \"Gene region length (bp)\"] = abs(gb_end - gb_start)\n",
    "\n",
    "mart_file[\"Transcript length (bp)\"] = abs(mart_file[\"Transcript end (bp)\"] - mart_file[\"Transcript start (bp)\"])\n",
    "mart_file[\"Exon length (bp)\"] = abs(mart_file[\"Exon region end (bp)\"] - mart_file[\"Exon region start (bp)\"])"
   ]
  },
  {
   "cell_type": "code",
   "execution_count": 20,
   "metadata": {},
   "outputs": [
    {
     "output_type": "stream",
     "name": "stdout",
     "text": [
      "Total total exonic sizes: 37272940\nAverage total exonic sizes: 1614.805476128585\nMedian total exonic sizes: 1311.0\nAverage exon size: 233.90905439666642\n\nTotal total intronic sizes: 42788589\nAverage total intronic sizes: 1853.7643618403952\nMedian total intronic sizes: 761.0\nAverage intron size: 314.00781559596675\n\nProportion of intronic vs. exonic sizes: 1.147979982260589\n"
     ]
    }
   ],
   "source": [
    "# Calculate total exonic and intronic sizes per transcript\n",
    "length_df = mart_file.groupby([\"Transcript stable ID\", \"Gene stable ID\", \"Gene region length (bp)\"])[\"Exon length (bp)\"].sum().to_frame(name=\"Total exon size (bp)\").reset_index()\n",
    "length_df[\"Total intron size (bp)\"] = length_df[\"Gene region length (bp)\"] - length_df[\"Total exon size (bp)\"]\n",
    "\n",
    "total_exon = length_df['Total exon size (bp)']\n",
    "total_intron = length_df['Total intron size (bp)']\n",
    "\n",
    "print(f\"\"\"Total exome size: {total_exon.sum()}\n",
    "Average total exonic sizes: {total_exon.sum() / len(length_df)}\n",
    "Median total exonic sizes: {total_exon.median()}\n",
    "Average exon size: {total_exon.sum() / len(length_df) / avg_exon}\n",
    "\n",
    "Total introme size: {total_intron.sum()}\n",
    "Average total intronic sizes: {total_intron.sum() / len(length_df)}\n",
    "Median total intronic sizes: {total_intron.median()}\n",
    "Average intron size: {total_intron.sum() / len(length_df) / avg_intron}\n",
    "\n",
    "Proportion of introme vs. exome sizes: {total_intron.sum() / total_exon.sum()}\"\"\")"
   ]
  },
  {
   "cell_type": "code",
   "execution_count": null,
   "metadata": {},
   "outputs": [],
   "source": []
  }
 ]
}